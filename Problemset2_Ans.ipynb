{
  "nbformat": 4,
  "nbformat_minor": 0,
  "metadata": {
    "colab": {
      "provenance": []
    },
    "kernelspec": {
      "name": "python3",
      "display_name": "Python 3"
    },
    "language_info": {
      "name": "python"
    }
  },
  "cells": [
    {
      "cell_type": "markdown",
      "source": [
        "# Problem set #2\n",
        "Due Feb 20th, 2023, by midnight\n",
        "\n",
        "20 points total\n",
        "\n",
        "Please share your answers with Rabia Gondur at rgondur@fordham.edu. Please adjust the name of the notebook file to include your last name. Remember **adding comments to your code** can be helpful to graders, especially if you want explain the logic of something, or want to clarify a line that may not be easy to interpret by eye.\n",
        "\n",
        "All code must be executable from scratch. Code should be written properly (i.e. put code in functions as needed, declare variables as needed, and don't repeat yourself.) Only use functions from the packages loaded in the first block of code below for this problem set. \n",
        "\n",
        "Make sure all plots contain appropriately labelled axes and are easy to read and interpret.\n"
      ],
      "metadata": {
        "id": "w49yhi5Q01UQ"
      }
    },
    {
      "cell_type": "markdown",
      "source": [
        "## Understanding the problem\n",
        "\n",
        "For this problem set we will be working with on with a popular data set used in biological modeling called the [Iris flower dataset](https://en.wikipedia.org/wiki/Iris_flower_data_set).\n",
        "\n",
        "This dataset is typically used for **classification** , when we use different measurements from distinct flower species and try to correctly categorize them from their measurements. A variety of machine learning methods may be used on this dataset, but for this problem set we will focus on **multivariate linear regression**. Though linear regression is not explicitly designed for predicting species (classification) the linear regression framework is flexible enough to do it.\n",
        "\n",
        "Let us first import some package so we can easily work with the data. Fortunately, the data can be downloaded directly into our notebooks from the scikitlearn python package."
      ],
      "metadata": {
        "id": "sDoFQ4415xvI"
      }
    },
    {
      "cell_type": "code",
      "execution_count": null,
      "metadata": {
        "id": "E3ARLlg4tlSn"
      },
      "outputs": [],
      "source": [
        "# Importing dataset from scikit-learn and other useful packages:\n",
        "from sklearn.model_selection import train_test_split\n",
        "from sklearn.datasets import load_iris\n",
        "import matplotlib.pyplot as plt\n",
        "import numpy as np\n",
        "\n",
        "# We will fix a random seed for reproducibility:\n",
        "seed = 11\n",
        "np.random.seed(seed)"
      ]
    },
    {
      "cell_type": "markdown",
      "source": [
        "## Understanding the data\n",
        "\n",
        "The next cell will load in the data. Here, I have written a vector that will tell you each of the measurements made from each flower species. Those measurements are, in the following order \n",
        "*   Sepal Length\n",
        "*   Sepal Width\n",
        "*   Petal Length\n",
        "*   Petal Width. \n",
        "\n",
        "Measurements from the dataset of the above features are stored in the variable `x_dat`. This will be the *input data* or *predictor variable*.\n",
        "\n",
        "The variable `y_dat`, also declared below, will be the *output data* or response variable. These data will contain one of 3 integers corresponding to the three iris species in the dataset, specifically \n",
        "*   Iris Setosa\n",
        "*   Iris Versicolour\n",
        "*   Iris Virginica"
      ],
      "metadata": {
        "id": "Q1jtv7n96xUh"
      }
    },
    {
      "cell_type": "code",
      "source": [
        "iris_data = load_iris()"
      ],
      "metadata": {
        "id": "M3jZ9A7otu6W"
      },
      "execution_count": null,
      "outputs": []
    },
    {
      "cell_type": "code",
      "source": [
        "feature_columns = ['sepal_length', 'sepal_width', 'petal_length', 'petal_width']\n",
        "x_dat = iris_data['data']\n",
        "y_dat = iris_data['target']"
      ],
      "metadata": {
        "id": "AMiArhuut7BT"
      },
      "execution_count": null,
      "outputs": []
    },
    {
      "cell_type": "markdown",
      "source": [
        "### Question 1\n",
        "#### Part a\n",
        " Let's generate a few histograms to get a sense of the data. First, plot three histograms on the same plot of the second measured x variable (\"Sepal Width\"). Each histogram should correspond to one of the output iris species. That is, plot a histogram of sepal width for Setosa, versicolour and viriginica species on the same plot (hint, setting alpha parameter in the `plt.hist()` function to a small value, say, 0.5, can be useful to make overlapping plots look nice!)\n",
        "\n",
        "By eye, can you see that the flower species are well separated according to this feature? Write your answer below"
      ],
      "metadata": {
        "id": "3xEzz4HD-dCD"
      }
    },
    {
      "cell_type": "markdown",
      "source": [
        "**Answer here:** No\n",
        "\n"
      ],
      "metadata": {
        "id": "In1fGx0AEQoH"
      }
    },
    {
      "cell_type": "code",
      "source": [
        "plt.hist(x_dat.T[1][y_dat==0], bins = 10, alpha = .5)\n",
        "plt.hist(x_dat.T[1][y_dat==1], bins = 10, alpha = .5)\n",
        "plt.hist(x_dat.T[1][y_dat==2], bins = 10, alpha = .5)\n",
        "plt.xlabel('sepal width')\n",
        "plt.ylabel('count')\n",
        "\n",
        "plt.legend(['Setosa','veriscolour', 'virginica'])"
      ],
      "metadata": {
        "colab": {
          "base_uri": "https://localhost:8080/",
          "height": 297
        },
        "id": "oiuWeiNzvLiS",
        "outputId": "d1e83ebc-8db9-418f-9333-8d6b31fe68b0"
      },
      "execution_count": null,
      "outputs": [
        {
          "output_type": "execute_result",
          "data": {
            "text/plain": [
              "<matplotlib.legend.Legend at 0x7f553cd18370>"
            ]
          },
          "metadata": {},
          "execution_count": 5
        },
        {
          "output_type": "display_data",
          "data": {
            "text/plain": [
              "<Figure size 432x288 with 1 Axes>"
            ],
            "image/png": "[encoded data removed]"
          },
          "metadata": {
            "needs_background": "light"
          }
        }
      ]
    },
    {
      "cell_type": "markdown",
      "source": [
        "#### Part b\n",
        "Generate the same plot for the \"petal length\" variable. Are the flower species better separated according to this feature? Write your answer below\n",
        "\n"
      ],
      "metadata": {
        "id": "UrHsvsg6_46u"
      }
    },
    {
      "cell_type": "markdown",
      "source": [
        "**Answer here:** Yes"
      ],
      "metadata": {
        "id": "jCj7R7J9Ezzb"
      }
    },
    {
      "cell_type": "code",
      "source": [
        "plt.hist(x_dat.T[2][y_dat==0], bins = 10, alpha = .5)\n",
        "plt.hist(x_dat.T[2][y_dat==1], bins = 10, alpha = .5)\n",
        "plt.hist(x_dat.T[2][y_dat==2], bins = 10, alpha = .5)\n",
        "plt.xlabel('petal length')\n",
        "plt.ylabel('count')\n",
        "\n",
        "plt.legend(['Setosa','veriscolour', 'virginica'])"
      ],
      "metadata": {
        "colab": {
          "base_uri": "https://localhost:8080/",
          "height": 297
        },
        "id": "4qlg4RehvSX-",
        "outputId": "2803a7b7-bb5e-40cc-9139-b20956a00c1b"
      },
      "execution_count": null,
      "outputs": [
        {
          "output_type": "execute_result",
          "data": {
            "text/plain": [
              "<matplotlib.legend.Legend at 0x7f553ab78760>"
            ]
          },
          "metadata": {},
          "execution_count": 6
        },
        {
          "output_type": "display_data",
          "data": {
            "text/plain": [
              "<Figure size 432x288 with 1 Axes>"
            ],
            "image/png": "[encoded data removed]"
          },
          "metadata": {
            "needs_background": "light"
          }
        }
      ]
    },
    {
      "cell_type": "markdown",
      "source": [
        "#### Part c\n",
        "Generate a scatter plot of the three iris species with the sepal width variable on the x axis, and the petal length variable on the y axis. Be sure to clearly demonstrate the species using a color code, or specific mark, and make this easy to read with a legend!"
      ],
      "metadata": {
        "id": "Enpie9CFBK4Q"
      }
    },
    {
      "cell_type": "code",
      "source": [
        "plt.plot(x_dat.T[1][y_dat==0],x_dat.T[2][y_dat==0],'or')\n",
        "plt.plot(x_dat.T[1][y_dat==1],x_dat.T[2][y_dat==1],'og')\n",
        "plt.plot(x_dat.T[1][y_dat==2],x_dat.T[2][y_dat==2],'ob')\n",
        "plt.xlabel('sepal width')\n",
        "plt.ylabel('petal length')\n",
        "plt.legend(['Setosa','veriscolour', 'virginica'])"
      ],
      "metadata": {
        "colab": {
          "base_uri": "https://localhost:8080/",
          "height": 297
        },
        "id": "OUeEWJcQ-jbk",
        "outputId": "55d505a4-e65b-4fdb-9afe-dcbd92f7af16"
      },
      "execution_count": null,
      "outputs": [
        {
          "output_type": "execute_result",
          "data": {
            "text/plain": [
              "<matplotlib.legend.Legend at 0x7f553aac1700>"
            ]
          },
          "metadata": {},
          "execution_count": 7
        },
        {
          "output_type": "display_data",
          "data": {
            "text/plain": [
              "<Figure size 432x288 with 1 Axes>"
            ],
            "image/png": "[encoded data removed]"
          },
          "metadata": {
            "needs_background": "light"
          }
        }
      ]
    },
    {
      "cell_type": "markdown",
      "source": [
        "### Question 2: regression\n",
        "#### part a:\n",
        "Make the appropriate \"design matrix\" for multivariate linear regression for this question by inserting a column of ones to the begining of x data."
      ],
      "metadata": {
        "id": "8qrTRQ8kyaMz"
      }
    },
    {
      "cell_type": "code",
      "source": [
        "import numpy as np\n",
        "\n",
        "new_col = np.ones((np.shape(x_dat)[0],1))\n",
        "x_design = np.hstack((new_col,x_dat))\n",
        "#x_design\n"
      ],
      "metadata": {
        "id": "BChnXwqSueLC",
        "outputId": "db2fd73c-241a-4b92-ec5f-b5a93cdb6e8d",
        "colab": {
          "base_uri": "https://localhost:8080/",
          "height": 232
        }
      },
      "execution_count": null,
      "outputs": [
        {
          "output_type": "error",
          "ename": "NameError",
          "evalue": "ignored",
          "traceback": [
            "\u001b[0;31m---------------------------------------------------------------------------\u001b[0m",
            "\u001b[0;31mNameError\u001b[0m                                 Traceback (most recent call last)",
            "\u001b[0;32m<ipython-input-2-ce95094cbbed>\u001b[0m in \u001b[0;36m<module>\u001b[0;34m\u001b[0m\n\u001b[1;32m      1\u001b[0m \u001b[0;32mimport\u001b[0m \u001b[0mnumpy\u001b[0m \u001b[0;32mas\u001b[0m \u001b[0mnp\u001b[0m\u001b[0;34m\u001b[0m\u001b[0;34m\u001b[0m\u001b[0m\n\u001b[1;32m      2\u001b[0m \u001b[0;34m\u001b[0m\u001b[0m\n\u001b[0;32m----> 3\u001b[0;31m \u001b[0mnew_col\u001b[0m \u001b[0;34m=\u001b[0m \u001b[0mnp\u001b[0m\u001b[0;34m.\u001b[0m\u001b[0mones\u001b[0m\u001b[0;34m(\u001b[0m\u001b[0;34m(\u001b[0m\u001b[0mnp\u001b[0m\u001b[0;34m.\u001b[0m\u001b[0mshape\u001b[0m\u001b[0;34m(\u001b[0m\u001b[0mx_dat\u001b[0m\u001b[0;34m)\u001b[0m\u001b[0;34m[\u001b[0m\u001b[0;36m0\u001b[0m\u001b[0;34m]\u001b[0m\u001b[0;34m,\u001b[0m\u001b[0;36m1\u001b[0m\u001b[0;34m)\u001b[0m\u001b[0;34m)\u001b[0m\u001b[0;34m\u001b[0m\u001b[0;34m\u001b[0m\u001b[0m\n\u001b[0m\u001b[1;32m      4\u001b[0m \u001b[0mx_design\u001b[0m \u001b[0;34m=\u001b[0m \u001b[0mnp\u001b[0m\u001b[0;34m.\u001b[0m\u001b[0mhstack\u001b[0m\u001b[0;34m(\u001b[0m\u001b[0;34m(\u001b[0m\u001b[0mnew_col\u001b[0m\u001b[0;34m,\u001b[0m\u001b[0mx_dat\u001b[0m\u001b[0;34m)\u001b[0m\u001b[0;34m)\u001b[0m\u001b[0;34m\u001b[0m\u001b[0;34m\u001b[0m\u001b[0m\n\u001b[1;32m      5\u001b[0m \u001b[0;31m#x_design\u001b[0m\u001b[0;34m\u001b[0m\u001b[0;34m\u001b[0m\u001b[0;34m\u001b[0m\u001b[0m\n",
            "\u001b[0;31mNameError\u001b[0m: name 'x_dat' is not defined"
          ]
        }
      ]
    },
    {
      "cell_type": "markdown",
      "source": [
        "### Part b:\n",
        "Split the data into training and testing pieces. You may use the included scikitlearn train and test function for this step. Please split using an 80% train/20% test split. \n",
        "\n",
        "Use the training data to solve for the estimated regression weights using the \n",
        "$$\n",
        "\\hat{\\theta} = (X^\\top X)^{-1}X^\\top Y \n",
        "$$\n",
        "formula. Be mindful of matrix dimensions!"
      ],
      "metadata": {
        "id": "XqE0JnWWycLW"
      }
    },
    {
      "cell_type": "code",
      "source": [
        "np.random.seed(seed)\n",
        "\n",
        "kfolds = 5\n",
        "mse_avg = 0\n",
        "for _ in range(kfolds):\n",
        "  X_train, X_test, y_train, y_test = train_test_split(x_design, y_dat,train_size=0.8)\n",
        "  theta_hat = np.linalg.inv(X_train.T@X_train)@X_train.T@y_train\n",
        "  y_hat = theta_hat@X_test.T\n",
        "  mse_avg = mse_avg + np.sum(np.square(y_hat-y_test))/np.size(y_test)\n",
        "  print(f' Weights for each of the kfolds: {theta_hat} ')\n",
        "print( f'\\n MSE: {mse_avg/kfolds}')"
      ],
      "metadata": {
        "colab": {
          "base_uri": "https://localhost:8080/"
        },
        "id": "vU7LTgf0vvWk",
        "outputId": "daa9d275-98f8-43b8-e460-45433dab019b"
      },
      "execution_count": null,
      "outputs": [
        {
          "output_type": "stream",
          "name": "stdout",
          "text": [
            " Weights for each of the kfolds: [ 0.08301149 -0.13751655  0.01994606  0.25739996  0.57050787] \n",
            " Weights for each of the kfolds: [ 0.27057216 -0.13684496 -0.0353853   0.23490821  0.62960348] \n",
            " Weights for each of the kfolds: [ 0.31941964 -0.14827913 -0.0289327   0.23518044  0.63390625] \n",
            " Weights for each of the kfolds: [ 0.18004911 -0.09534788 -0.06360913  0.23497356  0.56113193] \n",
            " Weights for each of the kfolds: [ 0.41232014 -0.18323096 -0.01612906  0.26897004  0.58741353] \n",
            "\n",
            " MSE: 0.050991886751855196\n"
          ]
        }
      ]
    },
    {
      "cell_type": "markdown",
      "source": [
        "#### Part c\n",
        "Calculate the mean squared error on the held-out data using the weights from above."
      ],
      "metadata": {
        "id": "rz6xZ1PI545M"
      }
    },
    {
      "cell_type": "code",
      "source": [
        "np.random.seed(seed)\n",
        "print(f' MSE: {mse_avg/kfolds}') # we divide it by the kfolds because in the loop we have the accumulated mse of all kfolds"
      ],
      "metadata": {
        "id": "imAuYrdF58Y2",
        "colab": {
          "base_uri": "https://localhost:8080/"
        },
        "outputId": "e00354f4-9856-4c19-c411-9ac35f2c8678"
      },
      "execution_count": null,
      "outputs": [
        {
          "output_type": "stream",
          "name": "stdout",
          "text": [
            " MSE: 0.050991886751855196\n"
          ]
        }
      ]
    },
    {
      "cell_type": "markdown",
      "source": [
        "#### Part d\n",
        "\n",
        "Now, organize the above code in a sensible, functional way so you can perform many-fold cross-validation. Calculate the average test mean squared error on held out data over 5 fold cross validation. Do this several times, one for when we use one feature (or observation) or X, another for 2, another for 3, and another for 4 features. What do you notice about the cross-validated mean squared error as we include more and more x observations. Write your answer below"
      ],
      "metadata": {
        "id": "XEcKAGavy1Qg"
      }
    },
    {
      "cell_type": "markdown",
      "source": [
        "**Answer here:** Gets smaller"
      ],
      "metadata": {
        "id": "fHGjZXp0J46Y"
      }
    },
    {
      "cell_type": "code",
      "source": [
        "n_feats = [1,2,3,4]\n",
        "mses_feats = []\n",
        "errs_feats = []\n",
        "for i in n_feats:\n",
        "  x_des_f = x_design[:,0:i]\n",
        "  nfolds = 5\n",
        "  mse_avg = 0\n",
        "  avg_errs = 0\n",
        "  for _ in range(nfolds):\n",
        "    X_train, X_test, y_train, y_test = train_test_split(x_des_f, y_dat,train_size=0.8)\n",
        "    theta_hat = np.linalg.inv(X_train.T@X_train)@X_train.T@y_train\n",
        "    y_hat = theta_hat@X_test.T\n",
        "    mse_avg = mse_avg + np.sum(np.square(y_hat-y_test))/np.size(y_test)\n",
        "    avg_errs = avg_errs + np.sum(~(np.round(y_hat) == y_test))\n",
        "  print(mse_avg)\n",
        "  mses_feats = np.append(mses_feats, mse_avg/nfolds)\n",
        "  errs_feats= np.append(errs_feats, avg_errs/nfolds)"
      ],
      "metadata": {
        "id": "v9B-8-q6whWH",
        "colab": {
          "base_uri": "https://localhost:8080/"
        },
        "outputId": "f187ad95-3860-4cdb-befd-1b1f09ec3eb3"
      },
      "execution_count": null,
      "outputs": [
        {
          "output_type": "stream",
          "name": "stdout",
          "text": [
            "3.448958333333333\n",
            "1.4768272406176244\n",
            "1.1051540401304776\n",
            "0.3537646494481904\n"
          ]
        }
      ]
    },
    {
      "cell_type": "code",
      "source": [
        "plt.plot(mses_feats,'o')\n",
        "plt.plot(errs_feats,'o')\n",
        "plt.xlabel('number of features')\n",
        "plt.ylabel('error')\n",
        "plt.legend(['average mse','avg classification error'])"
      ],
      "metadata": {
        "colab": {
          "base_uri": "https://localhost:8080/",
          "height": 297
        },
        "id": "I2MldH1Ixi_g",
        "outputId": "5583984d-3451-4ee0-d004-287d85358c6f"
      },
      "execution_count": null,
      "outputs": [
        {
          "output_type": "execute_result",
          "data": {
            "text/plain": [
              "<matplotlib.legend.Legend at 0x7f553a9f30d0>"
            ]
          },
          "metadata": {},
          "execution_count": 12
        },
        {
          "output_type": "display_data",
          "data": {
            "text/plain": [
              "<Figure size 432x288 with 1 Axes>"
            ],
            "image/png": "[encoded data removed]"
          },
          "metadata": {
            "needs_background": "light"
          }
        }
      ]
    },
    {
      "cell_type": "markdown",
      "source": [
        "####part e\n",
        "Finally, because this dataset should really be using a *classification* model, instead of a regression model, let's slightly modify our above example. Instead of calculating mean squared error on the held-out data, use `np.round` to make an *estimated species* from the predicted y_hat. Based on this nearest integer of y_hat, identify the **number of errors* made on the 20% held-out data.\n",
        "\n",
        "Create the same plot as above, still averaged over 5-fold cross validation, that shows the average number of errors made in species prediction on held-out data as you increase the number of features in X."
      ],
      "metadata": {
        "id": "IIoCf_cM6UZ-"
      }
    },
    {
      "cell_type": "code",
      "source": [
        "np.round(y_hat) == y_test\n",
        "\n"
      ],
      "metadata": {
        "colab": {
          "base_uri": "https://localhost:8080/"
        },
        "id": "DSRyfftqz2oD",
        "outputId": "c8c60d17-5d9c-42ef-90cb-fecec01a2a4d"
      },
      "execution_count": null,
      "outputs": [
        {
          "output_type": "execute_result",
          "data": {
            "text/plain": [
              "array([ True,  True,  True,  True,  True,  True,  True,  True,  True,\n",
              "        True,  True,  True,  True,  True,  True,  True,  True,  True,\n",
              "        True, False,  True,  True,  True,  True,  True,  True,  True,\n",
              "        True,  True,  True])"
            ]
          },
          "metadata": {},
          "execution_count": 13
        }
      ]
    },
    {
      "cell_type": "code",
      "source": [
        "print(errs_feats)\n",
        "plt.plot(errs_feats,'o')\n",
        "plt.xlabel('number of features')\n",
        "plt.ylabel('error')\n",
        "plt.legend(['avg classification error'])"
      ],
      "metadata": {
        "colab": {
          "base_uri": "https://localhost:8080/",
          "height": 315
        },
        "id": "Y5Z0v74ZLyHu",
        "outputId": "1b18498f-f9bb-4bfa-b816-db9add842e67"
      },
      "execution_count": null,
      "outputs": [
        {
          "output_type": "stream",
          "name": "stdout",
          "text": [
            "[20.6 12.   7.8  1.6]\n"
          ]
        },
        {
          "output_type": "execute_result",
          "data": {
            "text/plain": [
              "<matplotlib.legend.Legend at 0x7f553a9a3370>"
            ]
          },
          "metadata": {},
          "execution_count": 14
        },
        {
          "output_type": "display_data",
          "data": {
            "text/plain": [
              "<Figure size 432x288 with 1 Axes>"
            ],
            "image/png": "[encoded data removed]"
          },
          "metadata": {
            "needs_background": "light"
          }
        }
      ]
    },
    {
      "cell_type": "markdown",
      "source": [
        "**Challenge**: Generate a similar plot as you did in part 2e, where each datapoint is a location in the 2 dimensional scatter plot. This time, however, indicate the classification performance on the plot (say, a + indicating correct classification, and '-' indicating incorrect classification. Do you notice regions of the feature space where errors are more likely to occur? Write a sentence interpreting your answer."
      ],
      "metadata": {
        "id": "Em3yK5Bz3HCC"
      }
    },
    {
      "cell_type": "markdown",
      "source": [
        "**Answer here:** Errors are more likely to occur in regions where there is a significant overlap between different classes. For example, between the overlap of Iris Virginica and Iris Versicolor"
      ],
      "metadata": {
        "id": "A1TOTwGgM0kY"
      }
    }
  ]
}